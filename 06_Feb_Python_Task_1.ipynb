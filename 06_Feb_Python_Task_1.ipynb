{
  "nbformat": 4,
  "nbformat_minor": 0,
  "metadata": {
    "colab": {
      "provenance": []
    },
    "kernelspec": {
      "name": "python3",
      "display_name": "Python 3"
    },
    "language_info": {
      "name": "python"
    }
  },
  "cells": [
    {
      "cell_type": "markdown",
      "source": [
        "###Q.1) Create a function which will take a list as an argument and return the product of all the numbers after creating a flat list. Use the below-given list as an argument for your function.\n",
        "####list1 = [1,2,3,4, [44,55,66, True], False, (34,56,78,89,34), {1,2,3,3,2,1}, {1:34, \"key2\": [55, 67, 78, 89], 4: (45,22, 61, 34)}, [56, 'data science'], 'Machine Learning'] "
      ],
      "metadata": {
        "id": "iQvFSPqbkJFf"
      }
    },
    {
      "cell_type": "code",
      "source": [
        "def product_of_numbers(lst):\n",
        "    # Create a flat list of all elements\n",
        "    flat_list = []\n",
        "    for item in lst:\n",
        "        if isinstance(item, (list, tuple, set)):\n",
        "            flat_list += list(item)\n",
        "        elif isinstance(item, dict):\n",
        "            flat_list += [value for key, value in item.items() if isinstance(value, (int, float))]\n",
        "        elif isinstance(item, (int, float)):\n",
        "            flat_list.append(item)\n",
        "\n",
        "    # Compute the product of all numbers in the flat list\n",
        "    product = 1\n",
        "    for num in flat_list:\n",
        "        if isinstance(num, (int, float)):\n",
        "            product *= num\n",
        "\n",
        "    return product\n",
        "\n"
      ],
      "metadata": {
        "id": "TyyjhIfVoOAK"
      },
      "execution_count": 77,
      "outputs": []
    },
    {
      "cell_type": "code",
      "source": [
        "list1 = [1,2,3,4, [44,55,66, True], False, (34,56,78,89,34), {1,2,3,3,2,1}, {1:34, \"key2\": [55, 67, 78, 89], 4: (45,22, 61, 34)}, [56, 'data science'], 'Machine Learning']\n",
        "\n",
        "print(product_of_numbers(list1))\n",
        "\n"
      ],
      "metadata": {
        "id": "2ok8o-UXzEhj"
      },
      "execution_count": 79,
      "outputs": []
    },
    {
      "cell_type": "markdown",
      "source": [
        "####Q2. Write a python program for encrypting a message sent to you by your friend. The logic of encryption should be such that, for a the output should be z. For b, the output should be y. For c, the output should be x respectively. Also, the whitespace should be replaced with a dollar sign. Keep the punctuation marks unchanged.\n",
        "#####Input Sentence: I want to become a Data Scientist.\n",
        "#####Encrypt the above input sentence using the program you just created"
      ],
      "metadata": {
        "id": "qbtYEin8w9y0"
      }
    },
    {
      "cell_type": "code",
      "source": [
        "def encrypt_message(message):\n",
        "    encrypted = \"\"\n",
        "    for char in message.lower():\n",
        "        if char.isalpha():\n",
        "            encrypted += chr(219 - ord(char))\n",
        "        elif char.isspace():\n",
        "            encrypted += \"$\"\n",
        "        else:\n",
        "            encrypted += char\n",
        "    return encrypted\n",
        "\n",
        "input_sentence = \"I want to become a Data Scientist.\"\n",
        "encrypted_sentence = encrypt_message(input_sentence)\n",
        "\n",
        "print(encrypted_sentence)\n"
      ],
      "metadata": {
        "colab": {
          "base_uri": "https://localhost:8080/"
        },
        "id": "rjCzOqEWw597",
        "outputId": "2b792b5e-762f-478f-ea13-0b9bcead8b2d"
      },
      "execution_count": 76,
      "outputs": [
        {
          "output_type": "stream",
          "name": "stdout",
          "text": [
            "r$dzmg$gl$yvxlnv$z$wzgz$hxrvmgrhg.\n"
          ]
        }
      ]
    },
    {
      "cell_type": "code",
      "source": [],
      "metadata": {
        "id": "HzkEhUluxgdH"
      },
      "execution_count": 76,
      "outputs": []
    }
  ]
}